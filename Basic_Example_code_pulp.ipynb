{
 "cells": [
  {
   "cell_type": "markdown",
   "id": "83697c85",
   "metadata": {},
   "source": [
    "Example\n",
    "\n",
    "Solve the following linear program:\n",
    "\n",
    "Maximize z= 5x+10y\n",
    "\n",
    "Constraints\n",
    "\n",
    "1x+2y<=120\n",
    "x+y >=60\n",
    "x-2y >=0 "
   ]
  },
  {
   "cell_type": "code",
   "execution_count": 9,
   "id": "a64af789",
   "metadata": {
    "scrolled": true
   },
   "outputs": [
    {
     "data": {
      "text/plain": [
       "['CHOCO_CMD',\n",
       " 'COIN',\n",
       " 'COINMP_DLL',\n",
       " 'COINMP_DLL_load_dll',\n",
       " 'COIN_CMD',\n",
       " 'CPLEX',\n",
       " 'CPLEX_CMD',\n",
       " 'CPLEX_PY',\n",
       " 'DIRNAME',\n",
       " 'EPS',\n",
       " 'FixedElasticSubProblem',\n",
       " 'FractionElasticSubProblem',\n",
       " 'GLPK',\n",
       " 'GLPK_CMD',\n",
       " 'GUROBI',\n",
       " 'GUROBI_CMD',\n",
       " 'HiGHS_CMD',\n",
       " 'Iterable',\n",
       " 'LpAffineExpression',\n",
       " 'LpBinary',\n",
       " 'LpCategories',\n",
       " 'LpConstraint',\n",
       " 'LpConstraintEQ',\n",
       " 'LpConstraintGE',\n",
       " 'LpConstraintLE',\n",
       " 'LpConstraintSenses',\n",
       " 'LpConstraintTypeToMps',\n",
       " 'LpConstraintVar',\n",
       " 'LpContinuous',\n",
       " 'LpCplexLPLineSize',\n",
       " 'LpElement',\n",
       " 'LpFractionConstraint',\n",
       " 'LpInteger',\n",
       " 'LpMaximize',\n",
       " 'LpMinimize',\n",
       " 'LpProblem',\n",
       " 'LpSenses',\n",
       " 'LpSolution',\n",
       " 'LpSolutionInfeasible',\n",
       " 'LpSolutionIntegerFeasible',\n",
       " 'LpSolutionNoSolutionFound',\n",
       " 'LpSolutionOptimal',\n",
       " 'LpSolutionUnbounded',\n",
       " 'LpSolver',\n",
       " 'LpSolverDefault',\n",
       " 'LpSolver_CMD',\n",
       " 'LpStatus',\n",
       " 'LpStatusInfeasible',\n",
       " 'LpStatusNotSolved',\n",
       " 'LpStatusOptimal',\n",
       " 'LpStatusToSolution',\n",
       " 'LpStatusUnbounded',\n",
       " 'LpStatusUndefined',\n",
       " 'LpVariable',\n",
       " 'MIPCL_CMD',\n",
       " 'MOSEK',\n",
       " 'OrderedDict',\n",
       " 'PULPCFGFILE',\n",
       " 'PULP_CBC_CMD',\n",
       " 'PYGLPK',\n",
       " 'Parser',\n",
       " 'PulpError',\n",
       " 'PulpSolverError',\n",
       " 'SCIP',\n",
       " 'SCIP_CMD',\n",
       " 'VERSION',\n",
       " 'XPRESS',\n",
       " 'XPRESS_CMD',\n",
       " 'XPRESS_PY',\n",
       " 'YAPOSIB',\n",
       " '__builtins__',\n",
       " '__cached__',\n",
       " '__doc__',\n",
       " '__file__',\n",
       " '__loader__',\n",
       " '__name__',\n",
       " '__package__',\n",
       " '__path__',\n",
       " '__spec__',\n",
       " '__version__',\n",
       " 'allcombinations',\n",
       " 'allpermutations',\n",
       " 'apis',\n",
       " 'arch',\n",
       " 'cbc_path',\n",
       " 'choco_api',\n",
       " 'clock',\n",
       " 'coinMP_path',\n",
       " 'coin_api',\n",
       " 'collections',\n",
       " 'combination',\n",
       " 'configSolvers',\n",
       " 'config_filename',\n",
       " 'configparser',\n",
       " 'const',\n",
       " 'constants',\n",
       " 'core',\n",
       " 'cplex_api',\n",
       " 'cplex_dll_path',\n",
       " 'ctypes',\n",
       " 'ctypesArrayFill',\n",
       " 'devnull',\n",
       " 'getSolver',\n",
       " 'getSolverFromDict',\n",
       " 'getSolverFromJson',\n",
       " 'get_solver',\n",
       " 'get_solver_from_dict',\n",
       " 'get_solver_from_json',\n",
       " 'glpk',\n",
       " 'glpk_api',\n",
       " 'glpk_path',\n",
       " 'gurobi_api',\n",
       " 'gurobi_path',\n",
       " 'gurobipy',\n",
       " 'highs_api',\n",
       " 'ilm_cplex_license',\n",
       " 'ilm_cplex_license_signature',\n",
       " 'initialize',\n",
       " 'io',\n",
       " 'isNumber',\n",
       " 'is_64bits',\n",
       " 'isiterable',\n",
       " 'itertools',\n",
       " 'json',\n",
       " 'listSolvers',\n",
       " 'list_solvers',\n",
       " 'log',\n",
       " 'logging',\n",
       " 'lpDot',\n",
       " 'lpSum',\n",
       " 'makeDict',\n",
       " 'maketrans',\n",
       " 'mipcl_api',\n",
       " 'mktemp',\n",
       " 'mosek_api',\n",
       " 'mps_lp',\n",
       " 'mpslp',\n",
       " 'operating_system',\n",
       " 'os',\n",
       " 'permutation',\n",
       " 'pulp',\n",
       " 'pulpTestAll',\n",
       " 'pulp_cbc_path',\n",
       " 're',\n",
       " 'read_table',\n",
       " 'resource_clock',\n",
       " 'scip_api',\n",
       " 'scip_path',\n",
       " 'setConfigInformation',\n",
       " 'sparse',\n",
       " 'splitDict',\n",
       " 'subprocess',\n",
       " 'sys',\n",
       " 'tests',\n",
       " 'time',\n",
       " 'to_string',\n",
       " 'utilities',\n",
       " 'uuid4',\n",
       " 'value',\n",
       " 'valueOrDefault',\n",
       " 'warnings',\n",
       " 'xpress',\n",
       " 'xpress_api',\n",
       " 'yaposib']"
      ]
     },
     "execution_count": 9,
     "metadata": {},
     "output_type": "execute_result"
    }
   ],
   "source": [
    "#Load our Package \n",
    "\n",
    "import pulp\n",
    "\n",
    "dir(pulp)"
   ]
  },
  {
   "cell_type": "code",
   "execution_count": 10,
   "id": "bf387c2c",
   "metadata": {},
   "outputs": [],
   "source": [
    "# Define Variables x and y\n",
    "x=pulp.LpVariable('x',lowBound=0)\n",
    "y=pulp.LpVariable('y',lowBound=0)"
   ]
  },
  {
   "cell_type": "code",
   "execution_count": 11,
   "id": "4e0942fd",
   "metadata": {},
   "outputs": [],
   "source": [
    "# Objective function\n",
    "max_z=pulp.LpProblem(\"Maximize_z\",pulp.LpMaximize)"
   ]
  },
  {
   "cell_type": "code",
   "execution_count": 12,
   "id": "429821c6",
   "metadata": {},
   "outputs": [],
   "source": [
    "max_z += 5*x+10*y"
   ]
  },
  {
   "cell_type": "code",
   "execution_count": 14,
   "id": "03884bc4",
   "metadata": {},
   "outputs": [],
   "source": [
    "#Constraints\n",
    "max_z += 1*x+2*y <=120\n",
    "max_z += x+y >=60\n",
    "max_z += x-2*y >=0"
   ]
  },
  {
   "cell_type": "code",
   "execution_count": 15,
   "id": "a6124839",
   "metadata": {},
   "outputs": [
    {
     "name": "stdout",
     "output_type": "stream",
     "text": [
      "Maximize_z:\n",
      "MAXIMIZE\n",
      "5*x + 10*y + 0\n",
      "SUBJECT TO\n",
      "_C1: x + 2 y <= 120\n",
      "\n",
      "_C2: x + y >= 60\n",
      "\n",
      "_C3: x - 2 y >= 0\n",
      "\n",
      "VARIABLES\n",
      "x Continuous\n",
      "y Continuous\n",
      "\n"
     ]
    }
   ],
   "source": [
    "print(max_z)"
   ]
  },
  {
   "cell_type": "code",
   "execution_count": 16,
   "id": "d4ed25f0",
   "metadata": {},
   "outputs": [
    {
     "data": {
      "text/plain": [
       "'Not Solved'"
      ]
     },
     "execution_count": 16,
     "metadata": {},
     "output_type": "execute_result"
    }
   ],
   "source": [
    "# Check for the status\n",
    "pulp.LpStatus[max_z.status]"
   ]
  },
  {
   "cell_type": "code",
   "execution_count": 17,
   "id": "e2ac0161",
   "metadata": {},
   "outputs": [
    {
     "data": {
      "text/plain": [
       "1"
      ]
     },
     "execution_count": 17,
     "metadata": {},
     "output_type": "execute_result"
    }
   ],
   "source": [
    "#solve / optimization\n",
    "max_z.solve()"
   ]
  },
  {
   "cell_type": "code",
   "execution_count": 18,
   "id": "264c2dbc",
   "metadata": {},
   "outputs": [
    {
     "data": {
      "text/plain": [
       "'Optimal'"
      ]
     },
     "execution_count": 18,
     "metadata": {},
     "output_type": "execute_result"
    }
   ],
   "source": [
    "# Check for the status\n",
    "pulp.LpStatus[max_z.status]"
   ]
  },
  {
   "cell_type": "code",
   "execution_count": null,
   "id": "68db6af5",
   "metadata": {},
   "outputs": [],
   "source": [
    "#Get the Values for x and y while max_z\n",
    "print(x.varValue)\n",
    "print(y.varValue)"
   ]
  },
  {
   "cell_type": "code",
   "execution_count": 20,
   "id": "933e8b3f",
   "metadata": {},
   "outputs": [
    {
     "name": "stdout",
     "output_type": "stream",
     "text": [
      "x ==> 60.0\n",
      "y ==> 30.0\n"
     ]
    }
   ],
   "source": [
    "#Method 2\n",
    "for var in max_z.variables():\n",
    "    print(var.name,\"==>\",var.varValue)"
   ]
  },
  {
   "cell_type": "code",
   "execution_count": 21,
   "id": "31b6082a",
   "metadata": {},
   "outputs": [
    {
     "data": {
      "text/plain": [
       "Maximize_z:\n",
       "MAXIMIZE\n",
       "5*x + 10*y + 0\n",
       "SUBJECT TO\n",
       "_C1: x + 2 y <= 120\n",
       "\n",
       "_C2: x + y >= 60\n",
       "\n",
       "_C3: x - 2 y >= 0\n",
       "\n",
       "VARIABLES\n",
       "x Continuous\n",
       "y Continuous"
      ]
     },
     "execution_count": 21,
     "metadata": {},
     "output_type": "execute_result"
    }
   ],
   "source": [
    "max_z"
   ]
  },
  {
   "cell_type": "code",
   "execution_count": 23,
   "id": "3b5f8a23",
   "metadata": {},
   "outputs": [
    {
     "data": {
      "text/plain": [
       "600.0"
      ]
     },
     "execution_count": 23,
     "metadata": {},
     "output_type": "execute_result"
    }
   ],
   "source": [
    "# get the optimal value\n",
    "pulp.value(max_z.objective)"
   ]
  },
  {
   "cell_type": "code",
   "execution_count": null,
   "id": "5113bc45",
   "metadata": {},
   "outputs": [],
   "source": [
    "#5*60+10*30 = 600"
   ]
  },
  {
   "cell_type": "code",
   "execution_count": null,
   "id": "8418e62c",
   "metadata": {},
   "outputs": [],
   "source": []
  },
  {
   "cell_type": "code",
   "execution_count": null,
   "id": "26c04397",
   "metadata": {},
   "outputs": [],
   "source": []
  },
  {
   "cell_type": "code",
   "execution_count": null,
   "id": "a79a4724",
   "metadata": {},
   "outputs": [],
   "source": []
  }
 ],
 "metadata": {
  "kernelspec": {
   "display_name": "Python 3 (ipykernel)",
   "language": "python",
   "name": "python3"
  },
  "language_info": {
   "codemirror_mode": {
    "name": "ipython",
    "version": 3
   },
   "file_extension": ".py",
   "mimetype": "text/x-python",
   "name": "python",
   "nbconvert_exporter": "python",
   "pygments_lexer": "ipython3",
   "version": "3.9.13"
  }
 },
 "nbformat": 4,
 "nbformat_minor": 5
}
