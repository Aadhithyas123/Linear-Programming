{
 "cells": [
  {
   "cell_type": "code",
   "execution_count": 70,
   "id": "e9f77f72",
   "metadata": {
    "scrolled": true
   },
   "outputs": [
    {
     "data": {
      "text/plain": [
       "['CHOCO_CMD',\n",
       " 'COIN',\n",
       " 'COINMP_DLL',\n",
       " 'COINMP_DLL_load_dll',\n",
       " 'COIN_CMD',\n",
       " 'CPLEX',\n",
       " 'CPLEX_CMD',\n",
       " 'CPLEX_PY',\n",
       " 'DIRNAME',\n",
       " 'EPS',\n",
       " 'FixedElasticSubProblem',\n",
       " 'FractionElasticSubProblem',\n",
       " 'GLPK',\n",
       " 'GLPK_CMD',\n",
       " 'GUROBI',\n",
       " 'GUROBI_CMD',\n",
       " 'HiGHS_CMD',\n",
       " 'Iterable',\n",
       " 'LpAffineExpression',\n",
       " 'LpBinary',\n",
       " 'LpCategories',\n",
       " 'LpConstraint',\n",
       " 'LpConstraintEQ',\n",
       " 'LpConstraintGE',\n",
       " 'LpConstraintLE',\n",
       " 'LpConstraintSenses',\n",
       " 'LpConstraintTypeToMps',\n",
       " 'LpConstraintVar',\n",
       " 'LpContinuous',\n",
       " 'LpCplexLPLineSize',\n",
       " 'LpElement',\n",
       " 'LpFractionConstraint',\n",
       " 'LpInteger',\n",
       " 'LpMaximize',\n",
       " 'LpMinimize',\n",
       " 'LpProblem',\n",
       " 'LpSenses',\n",
       " 'LpSolution',\n",
       " 'LpSolutionInfeasible',\n",
       " 'LpSolutionIntegerFeasible',\n",
       " 'LpSolutionNoSolutionFound',\n",
       " 'LpSolutionOptimal',\n",
       " 'LpSolutionUnbounded',\n",
       " 'LpSolver',\n",
       " 'LpSolverDefault',\n",
       " 'LpSolver_CMD',\n",
       " 'LpStatus',\n",
       " 'LpStatusInfeasible',\n",
       " 'LpStatusNotSolved',\n",
       " 'LpStatusOptimal',\n",
       " 'LpStatusToSolution',\n",
       " 'LpStatusUnbounded',\n",
       " 'LpStatusUndefined',\n",
       " 'LpVariable',\n",
       " 'MIPCL_CMD',\n",
       " 'MOSEK',\n",
       " 'OrderedDict',\n",
       " 'PULPCFGFILE',\n",
       " 'PULP_CBC_CMD',\n",
       " 'PYGLPK',\n",
       " 'Parser',\n",
       " 'PulpError',\n",
       " 'PulpSolverError',\n",
       " 'SCIP',\n",
       " 'SCIP_CMD',\n",
       " 'VERSION',\n",
       " 'XPRESS',\n",
       " 'XPRESS_CMD',\n",
       " 'XPRESS_PY',\n",
       " 'YAPOSIB',\n",
       " '__builtins__',\n",
       " '__cached__',\n",
       " '__doc__',\n",
       " '__file__',\n",
       " '__loader__',\n",
       " '__name__',\n",
       " '__package__',\n",
       " '__path__',\n",
       " '__spec__',\n",
       " '__version__',\n",
       " 'allcombinations',\n",
       " 'allpermutations',\n",
       " 'apis',\n",
       " 'arch',\n",
       " 'cbc_path',\n",
       " 'choco_api',\n",
       " 'clock',\n",
       " 'coinMP_path',\n",
       " 'coin_api',\n",
       " 'collections',\n",
       " 'combination',\n",
       " 'configSolvers',\n",
       " 'config_filename',\n",
       " 'configparser',\n",
       " 'const',\n",
       " 'constants',\n",
       " 'core',\n",
       " 'cplex_api',\n",
       " 'cplex_dll_path',\n",
       " 'ctypes',\n",
       " 'ctypesArrayFill',\n",
       " 'devnull',\n",
       " 'getSolver',\n",
       " 'getSolverFromDict',\n",
       " 'getSolverFromJson',\n",
       " 'get_solver',\n",
       " 'get_solver_from_dict',\n",
       " 'get_solver_from_json',\n",
       " 'glpk',\n",
       " 'glpk_api',\n",
       " 'glpk_path',\n",
       " 'gurobi_api',\n",
       " 'gurobi_path',\n",
       " 'gurobipy',\n",
       " 'highs_api',\n",
       " 'ilm_cplex_license',\n",
       " 'ilm_cplex_license_signature',\n",
       " 'initialize',\n",
       " 'io',\n",
       " 'isNumber',\n",
       " 'is_64bits',\n",
       " 'isiterable',\n",
       " 'itertools',\n",
       " 'json',\n",
       " 'listSolvers',\n",
       " 'list_solvers',\n",
       " 'log',\n",
       " 'logging',\n",
       " 'lpDot',\n",
       " 'lpSum',\n",
       " 'makeDict',\n",
       " 'maketrans',\n",
       " 'mipcl_api',\n",
       " 'mktemp',\n",
       " 'mosek_api',\n",
       " 'mps_lp',\n",
       " 'mpslp',\n",
       " 'operating_system',\n",
       " 'os',\n",
       " 'permutation',\n",
       " 'pulp',\n",
       " 'pulpTestAll',\n",
       " 'pulp_cbc_path',\n",
       " 're',\n",
       " 'read_table',\n",
       " 'resource_clock',\n",
       " 'scip_api',\n",
       " 'scip_path',\n",
       " 'setConfigInformation',\n",
       " 'sparse',\n",
       " 'splitDict',\n",
       " 'subprocess',\n",
       " 'sys',\n",
       " 'tests',\n",
       " 'time',\n",
       " 'to_string',\n",
       " 'utilities',\n",
       " 'uuid4',\n",
       " 'value',\n",
       " 'valueOrDefault',\n",
       " 'warnings',\n",
       " 'xpress',\n",
       " 'xpress_api',\n",
       " 'yaposib']"
      ]
     },
     "execution_count": 70,
     "metadata": {},
     "output_type": "execute_result"
    }
   ],
   "source": [
    "#Load our Package \n",
    "\n",
    "import pulp\n",
    "\n",
    "dir(pulp)"
   ]
  },
  {
   "cell_type": "markdown",
   "id": "a5d39777",
   "metadata": {},
   "source": [
    "A manufacturer wants to make trail mixes and protein bars. The manufacturer earns $ 40 profit for each box of trail mix bags \n",
    "and $ 65 for each box of protein bar packages. There are three ingredients used to make them. To make a box of trail mix bags, \n",
    "1 kg of ingredients A,3 kg of ingredients B,4 kg of ingredients C are needed. To make a box of protein bar packages, \n",
    "4 kg of ingredients A,4 kg of ingredients B,2 kg of ingredients C are needed. if the company has contracts to buy \n",
    "48 4 kg of ingredients A,64 kg of ingredients B,62 kg of ingredients C daily, how many boxes of trail mix bags, \n",
    "protein bar packages should they make daily in order to maximize profit?. Also, what is the maximum profit?"
   ]
  },
  {
   "cell_type": "code",
   "execution_count": 71,
   "id": "8cf4ba92",
   "metadata": {},
   "outputs": [],
   "source": [
    "# Define Variables x and y\n",
    "x=pulp.LpVariable('x',lowBound=0)\n",
    "y=pulp.LpVariable('y',lowBound=0)"
   ]
  },
  {
   "cell_type": "code",
   "execution_count": 72,
   "id": "37110a3f",
   "metadata": {},
   "outputs": [],
   "source": [
    "# objective function max_profit=40x+65y\n",
    "max_profit=pulp.LpProblem(\"Maximum_profit\",pulp.LpMaximize)\n",
    "max_profit += 40*x+65*y"
   ]
  },
  {
   "cell_type": "code",
   "execution_count": 73,
   "id": "965eceac",
   "metadata": {},
   "outputs": [],
   "source": [
    "#Constraints x+4y<=48  3x+4y<=64  4x+2y<=62  \n",
    "max_profit +=1*x+4*y<=48\n",
    "max_profit +=3*x+4*y<=64\n",
    "max_profit += 4*x+2*y <=62\n"
   ]
  },
  {
   "cell_type": "code",
   "execution_count": 74,
   "id": "55e749f9",
   "metadata": {},
   "outputs": [
    {
     "name": "stdout",
     "output_type": "stream",
     "text": [
      "Maximum_profit:\n",
      "MAXIMIZE\n",
      "40*x + 65*y + 0\n",
      "SUBJECT TO\n",
      "_C1: x + 4 y <= 48\n",
      "\n",
      "_C2: 3 x + 4 y <= 64\n",
      "\n",
      "_C3: 4 x + 2 y <= 62\n",
      "\n",
      "VARIABLES\n",
      "x Continuous\n",
      "y Continuous\n",
      "\n"
     ]
    }
   ],
   "source": [
    "print(max_profit)"
   ]
  },
  {
   "cell_type": "code",
   "execution_count": 75,
   "id": "c4fbdabd",
   "metadata": {},
   "outputs": [
    {
     "data": {
      "text/plain": [
       "1"
      ]
     },
     "execution_count": 75,
     "metadata": {},
     "output_type": "execute_result"
    }
   ],
   "source": [
    "#solve / optimization\n",
    "max_profit.solve()"
   ]
  },
  {
   "cell_type": "code",
   "execution_count": 76,
   "id": "ff6e0e18",
   "metadata": {},
   "outputs": [
    {
     "data": {
      "text/plain": [
       "'Optimal'"
      ]
     },
     "execution_count": 76,
     "metadata": {},
     "output_type": "execute_result"
    }
   ],
   "source": [
    "# Check for the status\n",
    "pulp.LpStatus[max_profit.status]"
   ]
  },
  {
   "cell_type": "code",
   "execution_count": 77,
   "id": "a3715d7c",
   "metadata": {},
   "outputs": [
    {
     "name": "stdout",
     "output_type": "stream",
     "text": [
      "8.0\n",
      "10.0\n"
     ]
    }
   ],
   "source": [
    "#Get the Values for x and y while max_z\n",
    "print(x.varValue)\n",
    "print(y.varValue)"
   ]
  },
  {
   "cell_type": "code",
   "execution_count": 78,
   "id": "84a966b2",
   "metadata": {},
   "outputs": [
    {
     "data": {
      "text/plain": [
       "Maximum_profit:\n",
       "MAXIMIZE\n",
       "40*x + 65*y + 0\n",
       "SUBJECT TO\n",
       "_C1: x + 4 y <= 48\n",
       "\n",
       "_C2: 3 x + 4 y <= 64\n",
       "\n",
       "_C3: 4 x + 2 y <= 62\n",
       "\n",
       "VARIABLES\n",
       "x Continuous\n",
       "y Continuous"
      ]
     },
     "execution_count": 78,
     "metadata": {},
     "output_type": "execute_result"
    }
   ],
   "source": [
    "max_profit"
   ]
  },
  {
   "cell_type": "code",
   "execution_count": 80,
   "id": "97adbc72",
   "metadata": {},
   "outputs": [
    {
     "data": {
      "text/plain": [
       "970.0"
      ]
     },
     "execution_count": 80,
     "metadata": {},
     "output_type": "execute_result"
    }
   ],
   "source": [
    "# get the optimal value\n",
    "pulp.value(max_profit.objective)"
   ]
  },
  {
   "cell_type": "code",
   "execution_count": null,
   "id": "57c55d3a",
   "metadata": {},
   "outputs": [],
   "source": []
  }
 ],
 "metadata": {
  "kernelspec": {
   "display_name": "Python 3 (ipykernel)",
   "language": "python",
   "name": "python3"
  },
  "language_info": {
   "codemirror_mode": {
    "name": "ipython",
    "version": 3
   },
   "file_extension": ".py",
   "mimetype": "text/x-python",
   "name": "python",
   "nbconvert_exporter": "python",
   "pygments_lexer": "ipython3",
   "version": "3.9.13"
  }
 },
 "nbformat": 4,
 "nbformat_minor": 5
}
